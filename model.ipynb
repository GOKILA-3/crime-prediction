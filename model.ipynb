{
 "cells": [
  {
   "cell_type": "code",
   "execution_count": 1,
   "id": "afe22d7c-0258-4655-8046-4a92ab7624d6",
   "metadata": {},
   "outputs": [
    {
     "name": "stdout",
     "output_type": "stream",
     "text": [
      "Columns in dataset: Index(['STATE/UT', 'DISTRICT', 'YEAR', 'MURDER', 'ATTEMPT TO MURDER',\n",
      "       'CULPABLE HOMICIDE NOT AMOUNTING TO MURDER', 'RAPE', 'CUSTODIAL RAPE',\n",
      "       'OTHER RAPE', 'KIDNAPPING & ABDUCTION',\n",
      "       'KIDNAPPING AND ABDUCTION OF WOMEN AND GIRLS',\n",
      "       'KIDNAPPING AND ABDUCTION OF OTHERS', 'DACOITY',\n",
      "       'PREPARATION AND ASSEMBLY FOR DACOITY', 'ROBBERY', 'BURGLARY', 'THEFT',\n",
      "       'AUTO THEFT', 'OTHER THEFT', 'RIOTS', 'CRIMINAL BREACH OF TRUST',\n",
      "       'CHEATING', 'COUNTERFIETING', 'ARSON', 'HURT/GREVIOUS HURT',\n",
      "       'DOWRY DEATHS', 'ASSAULT ON WOMEN WITH INTENT TO OUTRAGE HER MODESTY',\n",
      "       'INSULT TO MODESTY OF WOMEN', 'CRUELTY BY HUSBAND OR HIS RELATIVES',\n",
      "       'IMPORTATION OF GIRLS FROM FOREIGN COUNTRIES',\n",
      "       'CAUSING DEATH BY NEGLIGENCE', 'OTHER IPC CRIMES', 'TOTAL IPC CRIMES'],\n",
      "      dtype='object')\n",
      "Model Accuracy: 0.74\n",
      "Model and encoders saved successfully!\n"
     ]
    }
   ],
   "source": [
    "import pandas as pd\n",
    "import numpy as np\n",
    "import pickle\n",
    "from sklearn.model_selection import train_test_split\n",
    "from sklearn.preprocessing import LabelEncoder\n",
    "from sklearn.ensemble import RandomForestClassifier\n",
    "from sklearn.metrics import accuracy_score\n",
    "\n",
    "# Load the dataset\n",
    "file_path = \"C:\\\\Users\\\\gokil\\\\Downloads\\\\pavi's project\\\\Indian-Crime-Data-Analysis-Forecasting-main\\\\crime.csv\"  # Change this if needed\n",
    "df = pd.read_csv(file_path)\n",
    "\n",
    "# Display column names to check correct feature selection\n",
    "print(\"Columns in dataset:\", df.columns)\n",
    "\n",
    "# Handling missing values (fill with mode for categorical, mean for numerical)\n",
    "df.fillna(df.mode().iloc[0], inplace=True)\n",
    "\n",
    "# Encode categorical variables\n",
    "label_encoders = {}\n",
    "for col in ['STATE/UT', 'DISTRICT']:  # Change these based on dataset columns\n",
    "    le = LabelEncoder()\n",
    "    df[col] = le.fit_transform(df[col])\n",
    "    label_encoders[col] = le\n",
    "\n",
    "# Define Features (X) and Target (y)\n",
    "X = df[['STATE/UT', 'DISTRICT', 'YEAR']]  # Adjust feature selection\n",
    "y = df['TOTAL IPC CRIMES']  # Adjust target variable\n",
    "\n",
    "# Convert target to binary classification (Safe vs. Unsafe)\n",
    "threshold = y.median()\n",
    "y = np.where(y > threshold, 1, 0)  # 1 = Unsafe, 0 = Safe\n",
    "\n",
    "# Split dataset\n",
    "X_train, X_test, y_train, y_test = train_test_split(X, y, test_size=0.2, random_state=42)\n",
    "\n",
    "# Train RandomForest model\n",
    "model = RandomForestClassifier(n_estimators=100, random_state=42)\n",
    "model.fit(X_train, y_train)\n",
    "\n",
    "# Model evaluation\n",
    "y_pred = model.predict(X_test)\n",
    "accuracy = accuracy_score(y_test, y_pred)\n",
    "print(f\"Model Accuracy: {accuracy:.2f}\")\n",
    "\n",
    "# Save model and encoders\n",
    "with open(\"crime_model.pkl\", \"wb\") as f:\n",
    "    pickle.dump(model, f)\n",
    "\n",
    "with open(\"label_encoders.pkl\", \"wb\") as f:\n",
    "    pickle.dump(label_encoders, f)\n",
    "\n",
    "print(\"Model and encoders saved successfully!\")\n"
   ]
  },
  {
   "cell_type": "code",
   "execution_count": null,
   "id": "51b20321-0eeb-4ef8-85c0-8968dd919f04",
   "metadata": {},
   "outputs": [],
   "source": []
  }
 ],
 "metadata": {
  "kernelspec": {
   "display_name": "base",
   "language": "python",
   "name": "python3"
  },
  "language_info": {
   "codemirror_mode": {
    "name": "ipython",
    "version": 3
   },
   "file_extension": ".py",
   "mimetype": "text/x-python",
   "name": "python",
   "nbconvert_exporter": "python",
   "pygments_lexer": "ipython3",
   "version": "3.12.4"
  }
 },
 "nbformat": 4,
 "nbformat_minor": 5
}
